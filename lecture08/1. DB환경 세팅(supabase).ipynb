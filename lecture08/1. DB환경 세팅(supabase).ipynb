{
 "cells": [
  {
   "cell_type": "markdown",
   "metadata": {},
   "source": [
    "### 수파베이스 메뉴얼\n",
    "___\n",
    "* 수파베이스 가입하기 (무료DB) : 깃허브 계정이 있어야 함.\n",
    "* https://supabase.com/"
   ]
  },
  {
   "cell_type": "markdown",
   "metadata": {},
   "source": [
    "* 홈화면\n",
    "  - Continue with GitHub 를 눌러 가입하자\n",
    "  - github 계정 연동 안내 창이 뜨면서 인증이 시작된다.\n",
    "  \n",
    "<img src=\"./images/supabase1.png\" width=\"800\">"
   ]
  },
  {
   "cell_type": "markdown",
   "metadata": {},
   "source": [
    "* 대시보드 화면 진입\n",
    "  - New Project 를 눌러 새로운 프로젝트를 만들어주자\n",
    "  \n",
    "<img src=\"./images/supabase2.png\" width=\"800\">"
   ]
  },
  {
   "cell_type": "markdown",
   "metadata": {},
   "source": [
    "* 프로젝트 생성\n",
    "  * 프로젝트명은 자율적으로 정한다.\n",
    "  * Region은 Seoul 로 세팅\n",
    "  * 비밀번호는 자동생성하고 적어두자.\n",
    "  \n",
    "<img src=\"./images/supabase3.png\" width=\"500\">"
   ]
  },
  {
   "cell_type": "markdown",
   "metadata": {},
   "source": [
    "* 생성완료 화면\n",
    "  \n",
    "<img src=\"./images/supabase4.png\" width=\"800\">\n",
    "\n"
   ]
  },
  {
   "cell_type": "markdown",
   "metadata": {},
   "source": [
    "* 테이블 편집 화면으로 진입\n",
    "  - 왼쪽 Drawer 메뉴에서 Table Editor 를 눌러 테이블 편집 화면으로 진입\n",
    "  \n",
    "<img src=\"./images/supabase5.png\" width=\"800\">"
   ]
  },
  {
   "cell_type": "markdown",
   "metadata": {},
   "source": [
    "* 테이블 생성하기1\n",
    "  - Create a new table 클릭\n",
    "  \n",
    "<img src=\"./images/supabase6.png\" width=\"800\">\n",
    "\n"
   ]
  },
  {
   "cell_type": "markdown",
   "metadata": {},
   "source": [
    "* 테이블 생성하기2 - links 테이블 만들기\n",
    "  * table 이름 : links\n",
    "  * Enable Row Level Security(RLS) 체크 해제 할것\n",
    "  * add columns를 눌러서 url (text 타입) 필드 추가\n",
    "  * is Nullable 체크 해제할것\n",
    "  * Save 버튼을 눌러 테이블 생성 완료\n",
    "  \n",
    "<img src=\"./images/supabase7.png\" width=\"400\">\n",
    "\n"
   ]
  },
  {
   "cell_type": "markdown",
   "metadata": {},
   "source": [
    "* 테이블 생성하기2 - scraps 테이블 만들기\n",
    "  * table 이름 : scraps\n",
    "  * Enable Row Level Security(RLS) 체크 해제 할것\n",
    "  * add columns를 눌러서 title(text), description(text), url(text), address(text), image(text) 필드 추가\n",
    "  * title 필드는 is Nullable 체크 해제할것\n",
    "  * Save 버튼을 눌러 테이블 생성 완료\n",
    "  \n",
    "<img src=\"./images/supabase8.png\" width=\"400\">\n",
    "\n"
   ]
  },
  {
   "cell_type": "markdown",
   "metadata": {},
   "source": [
    "* 테이블 생성하기3 - embeddings 테이블 만들기\n",
    "  * table 이름 : embeddings\n",
    "  * Enable Row Level Security(RLS) 체크 해제 할것 (캡처화면에는 체크해제 안되있는것으로 있으나. 해제 꼭할것)\n",
    "  * add columns를 눌러서 content(text), embedding(vector) 필드 추가\n",
    "  * Save 버튼을 눌러 테이블 생성 완료\n",
    "  \n",
    "<img src=\"./images/supabase9.png\" width=\"400\">\n",
    "\n"
   ]
  },
  {
   "cell_type": "markdown",
   "metadata": {},
   "source": [
    "* DB 접속 세팅\n",
    "  - 왼쪽 Drawer 메뉴 하단의 Project Settings 눌러 설정화면 진입\n",
    "  - API 탭메뉴 클릭해서 API 설정 화면 진입\n",
    "  - [Project URL > URL] 복사해서 kmu-practical-ds-2024/.env 파일을 새로 만들어서 SUPABASE_URL 값으로 붙여넣기\n",
    "  - [Project API keys > anon public] 복사해서 .env 파일에 SUPABASE_ANON_KEY 값으로 붙여넣기 (절대 공개 하지 말것)\n",
    "  \n",
    "  - <img src=\"./images/supabase10.png\" width=\"300\">\n",
    "\n",
    "  - <img src=\"./images/supabase11.png\" width=\"800\">\n",
    "  \n",
    "  - <img src=\"./images/supabase12.png\" width=\"800\">\n"
   ]
  },
  {
   "cell_type": "markdown",
   "metadata": {},
   "source": [
    "* DB 접속"
   ]
  },
  {
   "cell_type": "code",
   "execution_count": 5,
   "metadata": {},
   "outputs": [],
   "source": [
    "# !pip install python-dotenv # .env에 저장된 환경변수 로드해주는 패키지\n",
    "# !pip install supabase # 수파베이스 SDK"
   ]
  },
  {
   "cell_type": "code",
   "execution_count": 2,
   "metadata": {},
   "outputs": [],
   "source": [
    "# 환경 변수 로드\n",
    "from dotenv import load_dotenv\n",
    "import os\n",
    "load_dotenv()\n",
    "SUPABASE_URL = os.getenv(\"SUPABASE_URL\")\n",
    "SUPABASE_ANON_KEY = os.getenv(\"SUPABASE_ANON_KEY\")"
   ]
  },
  {
   "cell_type": "code",
   "execution_count": 4,
   "metadata": {},
   "outputs": [],
   "source": [
    "# 수파베이스 접속\n",
    "import supabase\n",
    "sb = supabase.create_client(SUPABASE_URL, SUPABASE_ANON_KEY)"
   ]
  },
  {
   "cell_type": "code",
   "execution_count": 9,
   "metadata": {},
   "outputs": [
    {
     "data": {
      "text/plain": [
       "APIResponse[TypeVar](data=[], count=None)"
      ]
     },
     "execution_count": 9,
     "metadata": {},
     "output_type": "execute_result"
    }
   ],
   "source": [
    "# 빈테이블 조회\n",
    "sb.table('links').select('*').execute()\n",
    "# '''select url from public.links;'''\n"
   ]
  },
  {
   "cell_type": "code",
   "execution_count": 10,
   "metadata": {},
   "outputs": [
    {
     "data": {
      "text/plain": [
       "APIResponse[TypeVar](data=[{'id': 1, 'created_at': '2024-05-02T22:37:40.122463+00:00', 'url': 'https://www.naver.com'}, {'id': 2, 'created_at': '2024-05-02T22:37:40.122463+00:00', 'url': 'https://www.naver.com'}, {'id': 3, 'created_at': '2024-05-02T22:37:40.122463+00:00', 'url': 'https://www.naver.com'}], count=None)"
      ]
     },
     "execution_count": 10,
     "metadata": {},
     "output_type": "execute_result"
    }
   ],
   "source": [
    "# 데이터 삽입\n",
    "sb.table('links').insert([{'url': 'https://www.naver.com'},{'url': 'https://www.naver.com'},{'url': 'https://www.naver.com'}]).execute()"
   ]
  },
  {
   "cell_type": "code",
   "execution_count": 17,
   "metadata": {},
   "outputs": [
    {
     "name": "stdout",
     "output_type": "stream",
     "text": [
      "Empty DataFrame\n",
      "Columns: []\n",
      "Index: []\n"
     ]
    }
   ],
   "source": [
    "# 데이터 다시 조회해서 데이터 프레임에 담기\n",
    "import pandas as pd\n",
    "data = sb.table('links').select('*').execute().data\n",
    "df = pd.DataFrame(data)\n",
    "print(df)"
   ]
  },
  {
   "cell_type": "code",
   "execution_count": 16,
   "metadata": {},
   "outputs": [
    {
     "data": {
      "text/plain": [
       "APIResponse[TypeVar](data=[{'id': 3, 'created_at': '2024-05-02T22:37:40.122463+00:00', 'url': 'https://www.naver.com'}], count=None)"
      ]
     },
     "execution_count": 16,
     "metadata": {},
     "output_type": "execute_result"
    }
   ],
   "source": [
    "# 데이터 삭제 (id 값 확인할것)\n",
    "sb.table('links').delete().eq('id', 1).execute()"
   ]
  },
  {
   "cell_type": "markdown",
   "metadata": {},
   "source": [
    "___\n",
    "데이터베이스 준비 끝\n",
    "___"
   ]
  },
  {
   "cell_type": "markdown",
   "metadata": {},
   "source": []
  }
 ],
 "metadata": {
  "kernelspec": {
   "display_name": "llm",
   "language": "python",
   "name": "python3"
  },
  "language_info": {
   "codemirror_mode": {
    "name": "ipython",
    "version": 3
   },
   "file_extension": ".py",
   "mimetype": "text/x-python",
   "name": "python",
   "nbconvert_exporter": "python",
   "pygments_lexer": "ipython3",
   "version": "3.12.3"
  }
 },
 "nbformat": 4,
 "nbformat_minor": 2
}
