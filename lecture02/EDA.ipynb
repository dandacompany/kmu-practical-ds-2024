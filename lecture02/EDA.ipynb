{
 "cells": [
  {
   "cell_type": "code",
   "execution_count": null,
   "id": "f56b32d3-fa48-4a11-bd48-a80aadbe9ed7",
   "metadata": {
    "scrolled": true
   },
   "outputs": [],
   "source": [
    "# !pip install pandas\n",
    "# !pip install pygwalker==0.3.2\n",
    "# !pip install kaggle\n",
    "# !pip install sweetviz"
   ]
  },
  {
   "cell_type": "code",
   "execution_count": 14,
   "id": "09c44e65-0c1a-4747-8a9a-39b95ac56359",
   "metadata": {},
   "outputs": [],
   "source": [
    "import pandas as pd\n",
    "import pygwalker as pyg\n",
    "from zipfile import ZipFile\n",
    "import pandas as pd\n",
    "from glob import glob\n",
    "import sweetviz as sv\n"
   ]
  },
  {
   "cell_type": "markdown",
   "id": "c9087010-b44b-44aa-80d1-582c57001097",
   "metadata": {},
   "source": [
    "## 캐클 API key 설정\n",
    "* https://www.kaggle.com/settings API 발급받아 아래 ~/.kaggle/kaggle.json 파일에 저장`\n",
    "* 참고 : https://www.kaggle.com/docs/api"
   ]
  },
  {
   "cell_type": "markdown",
   "id": "c8c84a2a",
   "metadata": {},
   "source": [
    "## 캐글 데이터셋 다운로드"
   ]
  },
  {
   "cell_type": "code",
   "execution_count": 21,
   "id": "1c77cda3",
   "metadata": {},
   "outputs": [],
   "source": [
    "# 캐글 api 파일 저장\n",
    "import os\n",
    "home_folder = os.getenv('HOME')\n",
    "kaggle_config_folder = os.path.join(home_folder, '.kaggle')\n",
    "kaggle_api_file_path = os.path.join(kaggle_config_folder, 'kaggle.json')\n",
    "os.makedirs(kaggle_config_folder, exist_ok=True)\n",
    "with open(kaggle_api_file_path, 'w') as f:\n",
    "    f.write('{\"username\":\"dantekwak\",\"key\":\"17c0a64a07c693c293583286e2fef410\"}')"
   ]
  },
  {
   "cell_type": "code",
   "execution_count": 22,
   "id": "e55721d4",
   "metadata": {},
   "outputs": [
    {
     "name": "stdout",
     "output_type": "stream",
     "text": [
      "Warning: Your Kaggle API key is readable by other users on this system! To fix this, you can run 'chmod 600 /home/jovyan/.kaggle/kaggle.json'\n"
     ]
    }
   ],
   "source": [
    "# 캐글 api 설정\n",
    "from kaggle.api.kaggle_api_extended import KaggleApi\n",
    "api = KaggleApi()\n",
    "api.authenticate()"
   ]
  },
  {
   "cell_type": "code",
   "execution_count": 24,
   "id": "ec1dc9b3",
   "metadata": {},
   "outputs": [
    {
     "data": {
      "text/plain": [
       "[https://www.kaggle.com/competitions/sber-churn-telecom,\n",
       " https://www.kaggle.com/competitions/udel-customer-churn-prediction,\n",
       " https://www.kaggle.com/competitions/hairdresser-machine-learning-competition,\n",
       " https://www.kaggle.com/competitions/detection-of-churn-ynov-m2,\n",
       " https://www.kaggle.com/competitions/data-mining-assignment1,\n",
       " https://www.kaggle.com/competitions/bank-churn-playground,\n",
       " https://www.kaggle.com/competitions/telecom-churn-case-study-hackathon-c58]"
      ]
     },
     "execution_count": 24,
     "metadata": {},
     "output_type": "execute_result"
    }
   ],
   "source": [
    "# 데이터 조회해보기\n",
    "api.competitions_list(search='churn')"
   ]
  },
  {
   "cell_type": "code",
   "execution_count": 26,
   "id": "f6bac649",
   "metadata": {},
   "outputs": [],
   "source": [
    "# 데이터 다운로드\n",
    "api.dataset_download_files('blastchar/telco-customer-churn')"
   ]
  },
  {
   "cell_type": "code",
   "execution_count": 27,
   "id": "faeac675",
   "metadata": {},
   "outputs": [],
   "source": [
    "# 데이터 압축해제\n",
    "zf = ZipFile('telco-customer-churn.zip') \n",
    "zf.extractall() \n",
    "zf.close()"
   ]
  },
  {
   "cell_type": "markdown",
   "id": "c22df380",
   "metadata": {},
   "source": [
    "## 데이터 로드"
   ]
  },
  {
   "cell_type": "code",
   "execution_count": 28,
   "id": "2767c560",
   "metadata": {},
   "outputs": [],
   "source": [
    "filename = glob('*.csv')[0]\n",
    "df=pd.read_csv(filename)"
   ]
  },
  {
   "cell_type": "code",
   "execution_count": 29,
   "id": "3d0b0a2a-cf8d-4b60-a9dd-9da55119231d",
   "metadata": {},
   "outputs": [
    {
     "name": "stdout",
     "output_type": "stream",
     "text": [
      "<class 'pandas.core.frame.DataFrame'>\n",
      "RangeIndex: 7043 entries, 0 to 7042\n",
      "Data columns (total 21 columns):\n",
      " #   Column            Non-Null Count  Dtype  \n",
      "---  ------            --------------  -----  \n",
      " 0   customerID        7043 non-null   object \n",
      " 1   gender            7043 non-null   object \n",
      " 2   SeniorCitizen     7043 non-null   int64  \n",
      " 3   Partner           7043 non-null   object \n",
      " 4   Dependents        7043 non-null   object \n",
      " 5   tenure            7043 non-null   int64  \n",
      " 6   PhoneService      7043 non-null   object \n",
      " 7   MultipleLines     7043 non-null   object \n",
      " 8   InternetService   7043 non-null   object \n",
      " 9   OnlineSecurity    7043 non-null   object \n",
      " 10  OnlineBackup      7043 non-null   object \n",
      " 11  DeviceProtection  7043 non-null   object \n",
      " 12  TechSupport       7043 non-null   object \n",
      " 13  StreamingTV       7043 non-null   object \n",
      " 14  StreamingMovies   7043 non-null   object \n",
      " 15  Contract          7043 non-null   object \n",
      " 16  PaperlessBilling  7043 non-null   object \n",
      " 17  PaymentMethod     7043 non-null   object \n",
      " 18  MonthlyCharges    7043 non-null   float64\n",
      " 19  TotalCharges      7043 non-null   object \n",
      " 20  Churn             7043 non-null   object \n",
      "dtypes: float64(1), int64(2), object(18)\n",
      "memory usage: 1.1+ MB\n"
     ]
    }
   ],
   "source": [
    "df.info()"
   ]
  },
  {
   "cell_type": "code",
   "execution_count": null,
   "id": "b180d426",
   "metadata": {},
   "outputs": [],
   "source": [
    "#  #   Column            Description  \n",
    "# ---  ------            --------------\n",
    "#  0   customerID        고객 ID\n",
    "#  1   gender            성별\n",
    "#  2   SeniorCitizen     고령자 여부 \n",
    "#  3   Partner           파트너 여부\n",
    "#  4   Dependents        부양 가족 여부\n",
    "#  5   tenure            고객 기간\n",
    "#  6   PhoneService      전화 서비스 여부\n",
    "#  7   MultipleLines     다중 회선 여부\n",
    "#  8   InternetService   인터넷 서비스\n",
    "#  9   OnlineSecurity    온라인 보안\n",
    "#  10  OnlineBackup      온라인 백업\n",
    "#  11  DeviceProtection  기기 보호\n",
    "#  12  TechSupport       기술 지원\n",
    "#  13  StreamingTV       스트리밍 TV\n",
    "#  14  StreamingMovies   스트리밍 영화\n",
    "#  15  Contract          계약 기간\n",
    "#  16  PaperlessBilling  종이 없는 청구\n",
    "#  17  PaymentMethod     결제 방법\n",
    "#  18  MonthlyCharges    월별 요금\n",
    "#  19  TotalCharges      총 요금\n",
    "#  20  Churn             이탈 여부"
   ]
  },
  {
   "cell_type": "code",
   "execution_count": 12,
   "id": "5922ae15",
   "metadata": {},
   "outputs": [
    {
     "data": {
      "text/html": [],
      "text/plain": [
       "<IPython.core.display.HTML object>"
      ]
     },
     "metadata": {},
     "output_type": "display_data"
    },
    {
     "data": {
      "application/vnd.jupyter.widget-view+json": {
       "model_id": "7a470c62566941c7abab9265a886a977",
       "version_major": 2,
       "version_minor": 0
      },
      "text/plain": [
       "Box(children=(HTML(value='<div id=\"ifr-pyg-0\" style=\"height: auto\">\\n    <head>\\n        <meta http-equiv=\"Con…"
      ]
     },
     "metadata": {},
     "output_type": "display_data"
    },
    {
     "data": {
      "text/html": [
       "<html>\n",
       "<style>\n",
       ".tabs{\n",
       "    position:relative;\n",
       "    height:660px;\n",
       "}\n",
       ".tab-pane{\n",
       "    display:inline-block;\n",
       "}\n",
       ".tabs input[type='radio']{\n",
       "    position:absolute;\n",
       "    clip:rect(0,0,0,0)\n",
       "}\n",
       ".tab-item{\n",
       "    display:block;\n",
       "    height:34px;\n",
       "    line-height:34px;\n",
       "    cursor:pointer;\n",
       "    padding:0 10px\n",
       "}\n",
       "\n",
       ".tabs input[type='radio']:checked+.tab-item{\n",
       "    background:#2563eb;\n",
       "    color:#fff\n",
       "}\n",
       "\n",
       ".tab-content{\n",
       "    display: none;\n",
       "    position:absolute;\n",
       "    left:0;\n",
       "    top:56px;\n",
       "    bottom:0;\n",
       "    right:0;\n",
       "}\n",
       "\n",
       ".tabs input[type='radio']:checked+.tab-item+.tab-content{\n",
       "    display: block;\n",
       "}\n",
       "</style>\n",
       "\n",
       "<body>\n",
       "    <div id=\"pygwalker-preview-0\">\n",
       "        <div class=\"tabs\">\n",
       "            \n",
       "        </div>\n",
       "    </div>\n",
       "</body>\n",
       "</html>"
      ],
      "text/plain": [
       "<IPython.core.display.HTML object>"
      ]
     },
     "metadata": {},
     "output_type": "display_data"
    }
   ],
   "source": [
    "walker = pyg.walk(df)"
   ]
  },
  {
   "cell_type": "code",
   "execution_count": 30,
   "id": "2e760d8f",
   "metadata": {},
   "outputs": [
    {
     "data": {
      "application/vnd.jupyter.widget-view+json": {
       "model_id": "d15fe441fce5461d99bc73175267bd54",
       "version_major": 2,
       "version_minor": 0
      },
      "text/plain": [
       "                                             |          | [  0%]   00:00 -> (? left)"
      ]
     },
     "metadata": {},
     "output_type": "display_data"
    },
    {
     "name": "stdout",
     "output_type": "stream",
     "text": [
      "Report report.html was generated! NOTEBOOK/COLAB USERS: the web browser MAY not pop up, regardless, the report IS saved in your notebook/colab files.\n"
     ]
    }
   ],
   "source": [
    "#EDA using Autoviz\n",
    "sweet_report = sv.analyze(df)\n",
    "\n",
    "#Saving results to HTML file\n",
    "sweet_report.show_html('report.html')"
   ]
  },
  {
   "cell_type": "code",
   "execution_count": null,
   "id": "a125a9b0-d408-4a24-a459-4828ff991ed4",
   "metadata": {},
   "outputs": [],
   "source": []
  }
 ],
 "metadata": {
  "kernelspec": {
   "display_name": "Python 3 (ipykernel)",
   "language": "python",
   "name": "python3"
  },
  "language_info": {
   "codemirror_mode": {
    "name": "ipython",
    "version": 3
   },
   "file_extension": ".py",
   "mimetype": "text/x-python",
   "name": "python",
   "nbconvert_exporter": "python",
   "pygments_lexer": "ipython3",
   "version": "3.11.8"
  }
 },
 "nbformat": 4,
 "nbformat_minor": 5
}
