{
 "cells": [
  {
   "cell_type": "code",
   "execution_count": null,
   "id": "f56b32d3-fa48-4a11-bd48-a80aadbe9ed7",
   "metadata": {
    "scrolled": true
   },
   "outputs": [],
   "source": [
    "# !pip install pandas\n",
    "# !pip install pygwalker==0.3.2\n",
    "# !pip install kaggle\n",
    "# !pip install sweetviz"
   ]
  },
  {
   "cell_type": "code",
   "execution_count": null,
   "id": "09c44e65-0c1a-4747-8a9a-39b95ac56359",
   "metadata": {},
   "outputs": [],
   "source": [
    "import pandas as pd\n",
    "import pygwalker as pyg\n",
    "from zipfile import ZipFile\n",
    "import pandas as pd\n",
    "from glob import glob\n",
    "import sweetviz as sv\n"
   ]
  },
  {
   "cell_type": "markdown",
   "id": "c9087010-b44b-44aa-80d1-582c57001097",
   "metadata": {},
   "source": [
    "## 캐클 API key 설정\n",
    "* https://www.kaggle.com/settings API 발급받아 아래 ~/.kaggle/kaggle.json 파일에 저장`\n",
    "* 참고 : https://www.kaggle.com/docs/api"
   ]
  },
  {
   "cell_type": "markdown",
   "id": "c8c84a2a",
   "metadata": {},
   "source": [
    "## 캐글 데이터셋 다운로드"
   ]
  },
  {
   "cell_type": "code",
   "execution_count": null,
   "id": "1c77cda3",
   "metadata": {},
   "outputs": [],
   "source": [
    "# 캐글 api 파일 저장\n",
    "import os\n",
    "home_folder = os.getenv('HOME')\n",
    "kaggle_config_folder = os.path.join(home_folder, '.kaggle')\n",
    "kaggle_api_file_path = os.path.join(kaggle_config_folder, 'kaggle.json')\n",
    "os.makedirs(kaggle_config_folder, exist_ok=True)\n",
    "with open(kaggle_api_file_path, 'w') as f:\n",
    "    f.write('{\"username\":\"kaggle_username\",\"key\":\"kaggle_key\"}')"
   ]
  },
  {
   "cell_type": "code",
   "execution_count": 4,
   "id": "e55721d4",
   "metadata": {},
   "outputs": [
    {
     "name": "stdout",
     "output_type": "stream",
     "text": [
      "Warning: Your Kaggle API key is readable by other users on this system! To fix this, you can run 'chmod 600 /home/jovyan/.kaggle/kaggle.json'\n"
     ]
    }
   ],
   "source": [
    "# 캐글 api 설정\n",
    "from kaggle.api.kaggle_api_extended import KaggleApi\n",
    "api = KaggleApi()\n",
    "api.authenticate()"
   ]
  },
  {
   "cell_type": "code",
   "execution_count": 5,
   "id": "ec1dc9b3",
   "metadata": {},
   "outputs": [
    {
     "name": "stdout",
     "output_type": "stream",
     "text": [
      "Warning: Looks like you're using an outdated API Version, please consider updating (server 1.6.7 / client 1.6.6)\n"
     ]
    },
    {
     "data": {
      "text/plain": [
       "[https://www.kaggle.com/competitions/udel-customer-churn-prediction,\n",
       " https://www.kaggle.com/competitions/data-mining-assignment1]"
      ]
     },
     "execution_count": 5,
     "metadata": {},
     "output_type": "execute_result"
    }
   ],
   "source": [
    "# 데이터 조회해보기\n",
    "api.competitions_list(search='customer-churn')"
   ]
  },
  {
   "cell_type": "code",
   "execution_count": 6,
   "id": "f6bac649",
   "metadata": {},
   "outputs": [],
   "source": [
    "# 데이터 다운로드\n",
    "api.dataset_download_files('blastchar/telco-customer-churn')"
   ]
  },
  {
   "cell_type": "code",
   "execution_count": 7,
   "id": "faeac675",
   "metadata": {},
   "outputs": [],
   "source": [
    "# 데이터 압축해제\n",
    "zf = ZipFile('telco-customer-churn.zip') \n",
    "zf.extractall() \n",
    "zf.close()"
   ]
  },
  {
   "cell_type": "markdown",
   "id": "c22df380",
   "metadata": {},
   "source": [
    "## 데이터 로드"
   ]
  },
  {
   "cell_type": "code",
   "execution_count": 8,
   "id": "2767c560",
   "metadata": {},
   "outputs": [],
   "source": [
    "filename = glob('*.csv')[0]\n",
    "df=pd.read_csv(filename)"
   ]
  },
  {
   "cell_type": "code",
   "execution_count": null,
   "id": "b180d426",
   "metadata": {},
   "outputs": [],
   "source": [
    "#  #   Column            Description  \n",
    "# ---  ------            --------------\n",
    "#  0   customerID        고객 ID\n",
    "#  1   gender            성별\n",
    "#  2   SeniorCitizen     고령자 여부 \n",
    "#  3   Partner           파트너 여부\n",
    "#  4   Dependents        부양 가족 여부\n",
    "#  5   tenure            고객 기간\n",
    "#  6   PhoneService      전화 서비스 여부\n",
    "#  7   MultipleLines     다중 회선 여부\n",
    "#  8   InternetService   인터넷 서비스\n",
    "#  9   OnlineSecurity    온라인 보안\n",
    "#  10  OnlineBackup      온라인 백업\n",
    "#  11  DeviceProtection  기기 보호\n",
    "#  12  TechSupport       기술 지원\n",
    "#  13  StreamingTV       스트리밍 TV\n",
    "#  14  StreamingMovies   스트리밍 영화\n",
    "#  15  Contract          계약 기간\n",
    "#  16  PaperlessBilling  종이 없는 청구\n",
    "#  17  PaymentMethod     결제 방법\n",
    "#  18  MonthlyCharges    월별 요금\n",
    "#  19  TotalCharges      총 요금\n",
    "#  20  Churn             이탈 여부"
   ]
  },
  {
   "cell_type": "code",
   "execution_count": null,
   "id": "5922ae15",
   "metadata": {},
   "outputs": [],
   "source": [
    "walker = pyg.walk(df)"
   ]
  },
  {
   "cell_type": "code",
   "execution_count": null,
   "id": "2e760d8f",
   "metadata": {},
   "outputs": [],
   "source": [
    "#EDA using Autoviz\n",
    "sweet_report = sv.analyze(df)\n",
    "\n",
    "#Saving results to HTML file\n",
    "sweet_report.show_html('report.html')"
   ]
  }
 ],
 "metadata": {
  "kernelspec": {
   "display_name": "Python 3 (ipykernel)",
   "language": "python",
   "name": "python3"
  },
  "language_info": {
   "codemirror_mode": {
    "name": "ipython",
    "version": 3
   },
   "file_extension": ".py",
   "mimetype": "text/x-python",
   "name": "python",
   "nbconvert_exporter": "python",
   "pygments_lexer": "ipython3",
   "version": "3.8.10"
  }
 },
 "nbformat": 4,
 "nbformat_minor": 5
}
