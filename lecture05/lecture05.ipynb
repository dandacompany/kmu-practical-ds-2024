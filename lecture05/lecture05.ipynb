{
 "cells": [
  {
   "cell_type": "code",
   "execution_count": 1,
   "id": "24a40d1d",
   "metadata": {},
   "outputs": [],
   "source": [
    "import sys\n",
    "sys.path.append(\"..\")\n"
   ]
  },
  {
   "cell_type": "code",
   "execution_count": 2,
   "id": "5d16b869",
   "metadata": {},
   "outputs": [
    {
     "name": "stdout",
     "output_type": "stream",
     "text": [
      "Warning: Your Kaggle API key is readable by other users on this system! To fix this, you can run 'chmod 600 /home/jovyan/.kaggle/kaggle.json'\n"
     ]
    }
   ],
   "source": [
    "from lib.kdata import KaggleDownloader"
   ]
  },
  {
   "cell_type": "code",
   "execution_count": 3,
   "id": "a149ffa0",
   "metadata": {},
   "outputs": [],
   "source": [
    "from lib.db import DB"
   ]
  },
  {
   "cell_type": "code",
   "execution_count": 4,
   "id": "764e79bf",
   "metadata": {},
   "outputs": [
    {
     "name": "stdout",
     "output_type": "stream",
     "text": [
      "Warning: Your Kaggle API key is readable by other users on this system! To fix this, you can run 'chmod 600 /home/jovyan/.kaggle/kaggle.json'\n"
     ]
    }
   ],
   "source": [
    "KaggleDownloader().setup(key='{\"username\":\"dantekwak\",\"key\":\"3ecadc3b1192d996e8254cecad78e697\"}')"
   ]
  },
  {
   "cell_type": "code",
   "execution_count": 5,
   "id": "fc4b0e98",
   "metadata": {},
   "outputs": [],
   "source": [
    "#KaggleDownloader().download(dataset='')\n",
    "\n"
   ]
  },
  {
   "cell_type": "code",
   "execution_count": null,
   "id": "895952b3",
   "metadata": {},
   "outputs": [],
   "source": []
  }
 ],
 "metadata": {
  "kernelspec": {
   "display_name": "base",
   "language": "python",
   "name": "python3"
  },
  "language_info": {
   "codemirror_mode": {
    "name": "ipython",
    "version": 3
   },
   "file_extension": ".py",
   "mimetype": "text/x-python",
   "name": "python",
   "nbconvert_exporter": "python",
   "pygments_lexer": "ipython3",
   "version": "3.11.8"
  }
 },
 "nbformat": 4,
 "nbformat_minor": 5
}
